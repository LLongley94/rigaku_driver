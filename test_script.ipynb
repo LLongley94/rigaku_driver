{
 "cells": [
  {
   "cell_type": "code",
   "execution_count": 2,
   "metadata": {},
   "outputs": [],
   "source": [
    "from rigaku_sim_controller import RigakuSimController"
   ]
  },
  {
   "cell_type": "code",
   "execution_count": 3,
   "metadata": {},
   "outputs": [
    {
     "name": "stdout",
     "output_type": "stream",
     "text": [
      "c:\\Users\\Louis_Work\\Documents\\PythonScripts\\rigaku\\temp\\\n",
      "log file logger.txt exists\n"
     ]
    }
   ],
   "source": [
    "balance = RigakuSimController()"
   ]
  },
  {
   "cell_type": "code",
   "execution_count": null,
   "metadata": {},
   "outputs": [],
   "source": [
    "balance.take_image(\"images\", \"test_base_image\")"
   ]
  },
  {
   "cell_type": "code",
   "execution_count": null,
   "metadata": {},
   "outputs": [],
   "source": [
    "balance.take_image(\"xrd_images\",\"nobel_winning_crystal\")"
   ]
  },
  {
   "cell_type": "code",
   "execution_count": 4,
   "metadata": {},
   "outputs": [
    {
     "name": "stdout",
     "output_type": "stream",
     "text": [
      "Writing xx xtalcheck connect to command.in file\n",
      "Watching c:\\Users\\Louis_Work\\Documents\\PythonScripts\\rigaku\\temp\\\n",
      "no looked for files found - waiting 0\n",
      "no looked for files found - waiting 1\n",
      "no looked for files found - waiting 2\n",
      "no looked for files found - waiting 3\n",
      "no looked for files found - waiting 4\n",
      "no looked for files found - waiting 5\n",
      "no looked for files found - waiting 6\n",
      "no looked for files found - waiting 7\n",
      "no looked for files found - waiting 8\n",
      "no looked for files found - waiting 9\n",
      "Command xx xtalcheck connect executed\n",
      "Response was Command executed correctly\n",
      "Writing log file\n",
      "Cleaning temp\n",
      "cleaning c:\\Users\\Louis_Work\\Documents\\PythonScripts\\rigaku\\temp\\ directory\n",
      "Removing command.done\n",
      "Removing command.in\n",
      "Cleaned\n"
     ]
    }
   ],
   "source": [
    "balance.connect()"
   ]
  },
  {
   "cell_type": "code",
   "execution_count": 5,
   "metadata": {},
   "outputs": [
    {
     "name": "stdout",
     "output_type": "stream",
     "text": [
      "Writing xx xtalcheck initialize to command.in file\n",
      "Watching c:\\Users\\Louis_Work\\Documents\\PythonScripts\\rigaku\\temp\\\n",
      "no looked for files found - waiting 0\n",
      "no looked for files found - waiting 1\n",
      "no looked for files found - waiting 2\n",
      "no looked for files found - waiting 3\n",
      "no looked for files found - waiting 4\n",
      "Command xx xtalcheck initialize executed\n",
      "Response was Command executed correctly\n",
      "Writing log file\n",
      "Cleaning temp\n",
      "cleaning c:\\Users\\Louis_Work\\Documents\\PythonScripts\\rigaku\\temp\\ directory\n",
      "Removing command.done\n",
      "Removing command.in\n",
      "Cleaned\n"
     ]
    }
   ],
   "source": [
    "balance.initialize()"
   ]
  },
  {
   "cell_type": "code",
   "execution_count": 6,
   "metadata": {},
   "outputs": [
    {
     "name": "stdout",
     "output_type": "stream",
     "text": [
      "Writing xx xtalcheck disconnect to command.in file\n",
      "Watching c:\\Users\\Louis_Work\\Documents\\PythonScripts\\rigaku\\temp\\\n",
      "no looked for files found - waiting 0\n",
      "no looked for files found - waiting 1\n",
      "no looked for files found - waiting 2\n",
      "no looked for files found - waiting 3\n",
      "Command xx xtalcheck disconnect executed\n",
      "Response was Command executed correctly\n",
      "Writing log file\n",
      "Cleaning temp\n",
      "cleaning c:\\Users\\Louis_Work\\Documents\\PythonScripts\\rigaku\\temp\\ directory\n",
      "Removing command.done\n",
      "Removing command.in\n",
      "Cleaned\n"
     ]
    }
   ],
   "source": [
    "balance.disconnect()"
   ]
  },
  {
   "cell_type": "code",
   "execution_count": 8,
   "metadata": {},
   "outputs": [
    {
     "name": "stdout",
     "output_type": "stream",
     "text": [
      "Acceptable axes are x, y or z\n"
     ]
    }
   ],
   "source": [
    "balance.absolute_move(\"p\", 1)"
   ]
  },
  {
   "cell_type": "code",
   "execution_count": 9,
   "metadata": {},
   "outputs": [
    {
     "name": "stdout",
     "output_type": "stream",
     "text": [
      "Writing xx xtalcheck mover z 4 to command.in file\n",
      "Watching c:\\Users\\Louis_Work\\Documents\\PythonScripts\\rigaku\\temp\\\n",
      "no looked for files found - waiting 0\n",
      "no looked for files found - waiting 1\n",
      "no looked for files found - waiting 2\n",
      "no looked for files found - waiting 3\n",
      "no looked for files found - waiting 4\n",
      "Command xx xtalcheck mover z 4 executed\n",
      "Response was Command executed correctly\n",
      "Writing log file\n",
      "Cleaning temp\n",
      "cleaning c:\\Users\\Louis_Work\\Documents\\PythonScripts\\rigaku\\temp\\ directory\n",
      "Removing command.done\n",
      "Removing command.in\n",
      "Cleaned\n"
     ]
    }
   ],
   "source": [
    "balance.relative_move(\"z\", 4)"
   ]
  },
  {
   "cell_type": "code",
   "execution_count": 10,
   "metadata": {},
   "outputs": [
    {
     "name": "stdout",
     "output_type": "stream",
     "text": [
      "Writing dc simplescreen c:\\Users\\Louis_Work\\Documents\\PythonScripts\\rigaku\\data\\ cool_peaks [5 [0.5] [5]]] to command.in file\n",
      "Watching c:\\Users\\Louis_Work\\Documents\\PythonScripts\\rigaku\\temp\\\n",
      "no looked for files found - waiting 0\n",
      "no looked for files found - waiting 1\n",
      "no looked for files found - waiting 2\n",
      "no looked for files found - waiting 3\n",
      "no looked for files found - waiting 4\n",
      "no looked for files found - waiting 5\n",
      "no looked for files found - waiting 6\n",
      "no looked for files found - waiting 7\n",
      "no looked for files found - waiting 8\n",
      "no looked for files found - waiting 9\n",
      "Command dc simplescreen c:\\Users\\Louis_Work\\Documents\\PythonScripts\\rigaku\\data\\ cool_peaks [5 [0.5] [5]]] executed\n",
      "Response was Command executed correctly\n",
      "Writing log file\n",
      "Cleaning temp\n",
      "cleaning c:\\Users\\Louis_Work\\Documents\\PythonScripts\\rigaku\\temp\\ directory\n",
      "Removing command.done\n",
      "Removing command.in\n",
      "Cleaned\n"
     ]
    }
   ],
   "source": [
    "balance.short_omega_scan(\"data\", \"cool_peaks\")"
   ]
  },
  {
   "cell_type": "code",
   "execution_count": 11,
   "metadata": {},
   "outputs": [
    {
     "name": "stdout",
     "output_type": "stream",
     "text": [
      "Writing dc simplescan c:\\Users\\Louis_Work\\Documents\\PythonScripts\\rigaku\\data\\ even_more_cool_peaks [5 [0.5] [90]]] to command.in file\n",
      "Watching c:\\Users\\Louis_Work\\Documents\\PythonScripts\\rigaku\\temp\\\n",
      "no looked for files found - waiting 0\n",
      "no looked for files found - waiting 1\n",
      "no looked for files found - waiting 2\n",
      "no looked for files found - waiting 3\n",
      "no looked for files found - waiting 4\n",
      "Command dc simplescan c:\\Users\\Louis_Work\\Documents\\PythonScripts\\rigaku\\data\\ even_more_cool_peaks [5 [0.5] [90]]] executed\n",
      "Response was Command executed correctly\n",
      "Writing log file\n",
      "Cleaning temp\n",
      "cleaning c:\\Users\\Louis_Work\\Documents\\PythonScripts\\rigaku\\temp\\ directory\n",
      "Removing command.done\n",
      "Removing command.in\n",
      "Cleaned\n"
     ]
    }
   ],
   "source": [
    "balance.omega_scan(\"data\", \"even_more_cool_peaks\")"
   ]
  },
  {
   "cell_type": "code",
   "execution_count": null,
   "metadata": {},
   "outputs": [],
   "source": []
  }
 ],
 "metadata": {
  "kernelspec": {
   "display_name": "rigaku",
   "language": "python",
   "name": "python3"
  },
  "language_info": {
   "codemirror_mode": {
    "name": "ipython",
    "version": 3
   },
   "file_extension": ".py",
   "mimetype": "text/x-python",
   "name": "python",
   "nbconvert_exporter": "python",
   "pygments_lexer": "ipython3",
   "version": "3.8.16"
  },
  "orig_nbformat": 4,
  "vscode": {
   "interpreter": {
    "hash": "ac38f93f3d0697d9de71bb9e12979c7439959c5bbbb2c701b1c8223e9a97b63e"
   }
  }
 },
 "nbformat": 4,
 "nbformat_minor": 2
}
