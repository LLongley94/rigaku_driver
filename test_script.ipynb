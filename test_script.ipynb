{
 "cells": [
  {
   "cell_type": "code",
   "execution_count": null,
   "metadata": {},
   "outputs": [],
   "source": [
    "from rigaku_sim_controller import RigakuSimController\n",
    "diffy = RigakuSimController()"
   ]
  },
  {
   "cell_type": "code",
   "execution_count": null,
   "metadata": {},
   "outputs": [],
   "source": [
    "diffy.take_image(\"images\", \"test_base_image\")"
   ]
  },
  {
   "cell_type": "code",
   "execution_count": null,
   "metadata": {},
   "outputs": [],
   "source": [
    "diffy.take_image(\"xrd_images\",\"nobel_winning_crystal\")"
   ]
  },
  {
   "cell_type": "code",
   "execution_count": null,
   "metadata": {},
   "outputs": [],
   "source": [
    "diffy.connect()"
   ]
  },
  {
   "cell_type": "code",
   "execution_count": null,
   "metadata": {},
   "outputs": [],
   "source": [
    "diffy.initialize()"
   ]
  },
  {
   "cell_type": "code",
   "execution_count": null,
   "metadata": {},
   "outputs": [],
   "source": [
    "diffy.disconnect()"
   ]
  },
  {
   "cell_type": "code",
   "execution_count": null,
   "metadata": {},
   "outputs": [],
   "source": [
    "diffy.absolute_move(1,2)"
   ]
  },
  {
   "cell_type": "code",
   "execution_count": null,
   "metadata": {},
   "outputs": [],
   "source": [
    "diffy.relative_move(value_z_mm=0.1)"
   ]
  },
  {
   "cell_type": "code",
   "execution_count": null,
   "metadata": {},
   "outputs": [],
   "source": [
    "diffy.short_omega_scan(\"data\", \"cool_peaks\")"
   ]
  },
  {
   "cell_type": "code",
   "execution_count": null,
   "metadata": {},
   "outputs": [],
   "source": [
    "diffy.omega_scan(\"powder1\", \"powder1\")"
   ]
  },
  {
   "cell_type": "code",
   "execution_count": null,
   "metadata": {},
   "outputs": [],
   "source": [
    "diffy.complete_strategy('data\\\\test','test')"
   ]
  },
  {
   "cell_type": "code",
   "execution_count": 1,
   "metadata": {},
   "outputs": [
    {
     "name": "stdout",
     "output_type": "stream",
     "text": [
      "C:\\Xcalibur\\tmp\\listen_mode\\\n",
      "log file logger.txt exists\n",
      "Writing xx xtalcheck move x y 1.2 3.6 to command.in file\n",
      "Watching C:\\Xcalibur\\tmp\\listen_mode\\\n",
      "no looked for files found - waiting 0\n",
      "Command xx xtalcheck move x y 1.2 3.6 executed\n",
      "xx xtalcheck move x y 1.2 3.6 \n",
      "\n",
      "Response was Command executed correctly\n",
      "Writing log file\n",
      "Cleaning tmp\n",
      "cleaning C:\\Xcalibur\\tmp\\listen_mode\\ directory\n",
      "Removing command.done\n",
      "Cleaned\n"
     ]
    },
    {
     "ename": "NameError",
     "evalue": "name 'collection_name' is not defined",
     "output_type": "error",
     "traceback": [
      "\u001b[1;31m---------------------------------------------------------------------------\u001b[0m",
      "\u001b[1;31mNameError\u001b[0m                                 Traceback (most recent call last)",
      "Cell \u001b[1;32mIn[1], line 14\u001b[0m\n\u001b[0;32m     10\u001b[0m     diffy\u001b[39m.\u001b[39mabsolute_move(\u001b[39m*\u001b[39mcoordinates)\n\u001b[0;32m     12\u001b[0m     screening_name \u001b[39m=\u001b[39m \u001b[39mf\u001b[39m\u001b[39m\"\u001b[39m\u001b[39m{\u001b[39;00m\u001b[39m'\u001b[39m\u001b[39m_\u001b[39m\u001b[39m'\u001b[39m\u001b[39m.\u001b[39mjoin(\u001b[39mstr\u001b[39m(i) \u001b[39mfor\u001b[39;00m i \u001b[39min\u001b[39;00m coordinates)\u001b[39m}\u001b[39;00m\u001b[39m_scr\u001b[39m\u001b[39m\"\u001b[39m\n\u001b[1;32m---> 14\u001b[0m     diffy\u001b[39m.\u001b[39mshort_omega_scan(\u001b[39mf\u001b[39m\u001b[39m\"\u001b[39m\u001b[39mdata\u001b[39m\u001b[39m\\\\\u001b[39;00m\u001b[39m{\u001b[39;00mcollection_name\u001b[39m}\u001b[39;00m\u001b[39m\"\u001b[39m, collection_name)\n\u001b[0;32m     16\u001b[0m coordinates \u001b[39m=\u001b[39m crystal_coordinates[\u001b[39m1\u001b[39m]\n\u001b[0;32m     18\u001b[0m diffy\u001b[39m.\u001b[39mabsolute_move(\u001b[39m*\u001b[39mcoordinates)\n",
      "\u001b[1;31mNameError\u001b[0m: name 'collection_name' is not defined"
     ]
    }
   ],
   "source": [
    "from rigaku_sim_controller import RigakuSimController\n",
    "diffy = RigakuSimController()\n",
    "\n",
    "crystal_coordinates = [\n",
    "    (1.2,3.6),\n",
    "    (10.2,25.8)\n",
    "    ]\n",
    "\n",
    "for coordinates in crystal_coordinates:\n",
    "    diffy.absolute_move(*coordinates)\n",
    "\n",
    "    screening_name = f\"{'_'.join(str(i) for i in coordinates)}_scr\"\n",
    "\n",
    "    diffy.short_omega_scan(f\"data\\\\{screening_name}\", screening_name)\n",
    "\n",
    "coordinates = crystal_coordinates[1]\n",
    "\n",
    "diffy.absolute_move(*coordinates)\n",
    "collection_name = f\"{'_'.join(str(i) for i in coordinates)}\"\n",
    "diffy.complete_strategy(f\"data\\\\{collection_name}\", collection_name)"
   ]
  }
 ],
 "metadata": {
  "kernelspec": {
   "display_name": "Python 3",
   "language": "python",
   "name": "python3"
  },
  "language_info": {
   "codemirror_mode": {
    "name": "ipython",
    "version": 3
   },
   "file_extension": ".py",
   "mimetype": "text/x-python",
   "name": "python",
   "nbconvert_exporter": "python",
   "pygments_lexer": "ipython3",
   "version": "3.8.16"
  },
  "orig_nbformat": 4,
  "vscode": {
   "interpreter": {
    "hash": "31fbeb22891bc6ba12d7e4a351b76f5d5ba45ed361058a913cb897432c911b2e"
   }
  }
 },
 "nbformat": 4,
 "nbformat_minor": 2
}
