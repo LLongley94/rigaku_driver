{
 "cells": [
  {
   "cell_type": "code",
   "execution_count": 1,
   "metadata": {},
   "outputs": [],
   "source": [
    "from rigaku_sim_controller import RigakuSimController"
   ]
  },
  {
   "cell_type": "code",
   "execution_count": 2,
   "metadata": {},
   "outputs": [
    {
     "name": "stdout",
     "output_type": "stream",
     "text": [
      "C:\\Xcalibur\\tmp\\listen_mode\\\n",
      "log file logger.txt exists\n"
     ]
    }
   ],
   "source": [
    "diffy = RigakuSimController()"
   ]
  },
  {
   "cell_type": "code",
   "execution_count": null,
   "metadata": {},
   "outputs": [],
   "source": [
    "diffy.take_image(\"images\", \"test_base_image\")"
   ]
  },
  {
   "cell_type": "code",
   "execution_count": null,
   "metadata": {},
   "outputs": [],
   "source": [
    "diffy.take_image(\"xrd_images\",\"nobel_winning_crystal\")"
   ]
  },
  {
   "cell_type": "code",
   "execution_count": null,
   "metadata": {},
   "outputs": [],
   "source": [
    "diffy.connect()"
   ]
  },
  {
   "cell_type": "code",
   "execution_count": null,
   "metadata": {},
   "outputs": [],
   "source": [
    "diffy.initialize()"
   ]
  },
  {
   "cell_type": "code",
   "execution_count": null,
   "metadata": {},
   "outputs": [],
   "source": [
    "diffy.disconnect()"
   ]
  },
  {
   "cell_type": "code",
   "execution_count": null,
   "metadata": {},
   "outputs": [],
   "source": [
    "diffy.absolute_move(\"x\", 1)"
   ]
  },
  {
   "cell_type": "code",
   "execution_count": 3,
   "metadata": {},
   "outputs": [
    {
     "name": "stdout",
     "output_type": "stream",
     "text": [
      "Writing xx xtalcheck mover z 4 to command.in file\n",
      "Watching C:\\Xcalibur\\tmp\\listen_mode\\\n",
      "An error in xx xtalcheck mover z 4 occured\n",
      "xx xtalcheck mover z 4 \n",
      "\n",
      "Response was An error occured during execution\n",
      "Writing log file\n",
      "Cleaning tmp\n",
      "cleaning C:\\Xcalibur\\tmp\\listen_mode\\ directory\n",
      "Removing command.error\n",
      "Removing command.in\n",
      "Cleaned\n"
     ]
    }
   ],
   "source": [
    "diffy.relative_move(\"z\", 4)"
   ]
  },
  {
   "cell_type": "code",
   "execution_count": null,
   "metadata": {},
   "outputs": [],
   "source": [
    "diffy.short_omega_scan(\"data\", \"cool_peaks\")"
   ]
  },
  {
   "cell_type": "code",
   "execution_count": null,
   "metadata": {},
   "outputs": [],
   "source": [
    "diffy.omega_scan(\"data\", \"even_more_cool_peaks\")"
   ]
  },
  {
   "cell_type": "code",
   "execution_count": null,
   "metadata": {},
   "outputs": [],
   "source": [
    "#workflow\n",
    "\n",
    "crystal_found = [1,2]\n",
    "\n",
    "diffy.absolute_move('x', 1)\n",
    "diffy.absolute_move()"
   ]
  }
 ],
 "metadata": {
  "kernelspec": {
   "display_name": "Python 3",
   "language": "python",
   "name": "python3"
  },
  "language_info": {
   "codemirror_mode": {
    "name": "ipython",
    "version": 3
   },
   "file_extension": ".py",
   "mimetype": "text/x-python",
   "name": "python",
   "nbconvert_exporter": "python",
   "pygments_lexer": "ipython3",
   "version": "3.8.16"
  },
  "orig_nbformat": 4,
  "vscode": {
   "interpreter": {
    "hash": "31fbeb22891bc6ba12d7e4a351b76f5d5ba45ed361058a913cb897432c911b2e"
   }
  }
 },
 "nbformat": 4,
 "nbformat_minor": 2
}
